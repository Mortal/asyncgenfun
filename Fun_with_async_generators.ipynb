{
 "cells": [
  {
   "cell_type": "markdown",
   "metadata": {},
   "source": [
    "Suppose we have two **line processor** functions that take lines as input and generate lines as output:"
   ]
  },
  {
   "cell_type": "code",
   "execution_count": 1,
   "metadata": {
    "collapsed": true,
    "deletable": true,
    "editable": true
   },
   "outputs": [],
   "source": [
    "def find_passwords(iterable):\n",
    "    for line in iterable:\n",
    "        try:\n",
    "            first, last = line.split(':')\n",
    "        except ValueError:\n",
    "            continue\n",
    "        yield 'Username: %s' % first.split()[-1]\n",
    "        yield 'Password: %s' % last.split()[0]\n",
    "\n",
    "def find_exclamations(iterable):\n",
    "    for line in iterable:\n",
    "        if line.endswith('!'):\n",
    "            yield 'Someone yelled %r' % (line,)"
   ]
  },
  {
   "cell_type": "code",
   "execution_count": 2,
   "metadata": {
    "collapsed": true
   },
   "outputs": [],
   "source": [
    "input_lines = ['Hello!',\n",
    "               'First entry is foo:bar',\n",
    "               'Hello again!',\n",
    "               'And hello:world is the final entry']"
   ]
  },
  {
   "cell_type": "markdown",
   "metadata": {},
   "source": [
    "The first line processor looks for lines containing `username:password` pairs:"
   ]
  },
  {
   "cell_type": "code",
   "execution_count": 3,
   "metadata": {
    "collapsed": false
   },
   "outputs": [
    {
     "name": "stdout",
     "output_type": "stream",
     "text": [
      "Username: foo\n",
      "Password: bar\n",
      "Username: hello\n",
      "Password: world\n"
     ]
    }
   ],
   "source": [
    "for line in find_passwords(input_lines):\n",
    "    print(line)"
   ]
  },
  {
   "cell_type": "markdown",
   "metadata": {},
   "source": [
    "The second line processor looks for lines ending with an exclamation point:"
   ]
  },
  {
   "cell_type": "code",
   "execution_count": 4,
   "metadata": {
    "collapsed": false,
    "deletable": true,
    "editable": true
   },
   "outputs": [
    {
     "name": "stdout",
     "output_type": "stream",
     "text": [
      "Someone yelled 'Hello!'\n",
      "Someone yelled 'Hello again!'\n"
     ]
    }
   ],
   "source": [
    "for line in find_exclamations(input_lines):\n",
    "    print(line)"
   ]
  },
  {
   "cell_type": "markdown",
   "metadata": {},
   "source": [
    "Suppose we are receiving an infinite stream of lines from some source and we want to apply many such line processors simultaneously.\n",
    "\n",
    "How would we do that?\n",
    "\n",
    "We could replace `for line in iterable` with receiving input via the **generator protocol**:"
   ]
  },
  {
   "cell_type": "code",
   "execution_count": 5,
   "metadata": {
    "collapsed": true,
    "deletable": true,
    "editable": true
   },
   "outputs": [],
   "source": [
    "def find_passwords_gen(write_output):\n",
    "    while True:\n",
    "        line = yield None\n",
    "        try:\n",
    "            first, last = line.split(':')\n",
    "        except ValueError:\n",
    "            continue\n",
    "        write_output('Username: %s' % first.split()[-1])\n",
    "        write_output('Password: %s' % last.split()[0])\n",
    "\n",
    "def find_exclamations_gen(write_output):\n",
    "    while True:\n",
    "        line = yield None\n",
    "        if line.endswith('!'):\n",
    "            write_output('Someone yelled %r' % (line,))"
   ]
  },
  {
   "cell_type": "markdown",
   "metadata": {},
   "source": [
    "Here's an example of how this protocol is used:"
   ]
  },
  {
   "cell_type": "code",
   "execution_count": 6,
   "metadata": {
    "collapsed": false
   },
   "outputs": [
    {
     "name": "stdout",
     "output_type": "stream",
     "text": [
      "From <generator object find_exclamations_gen at 0x7f77dc0af620>: Someone yelled 'Hello!'\n",
      "From <generator object find_passwords_gen at 0x7f77dc0af0a0>: Username: foo\n",
      "From <generator object find_passwords_gen at 0x7f77dc0af0a0>: Password: bar\n",
      "From <generator object find_exclamations_gen at 0x7f77dc0af620>: Someone yelled 'Hello again!'\n",
      "From <generator object find_passwords_gen at 0x7f77dc0af0a0>: Username: hello\n",
      "From <generator object find_passwords_gen at 0x7f77dc0af0a0>: Password: world\n"
     ]
    }
   ],
   "source": [
    "buffer = []\n",
    "processors = [\n",
    "    find_passwords_gen(buffer.append),\n",
    "    find_exclamations_gen(buffer.append),\n",
    "]\n",
    "for f in processors:\n",
    "    f.send(None)  # Start the generator\n",
    "for line in input_lines:\n",
    "    for f in processors:\n",
    "        f.send(line)\n",
    "        for output_line in buffer:\n",
    "            print(\"From %r: %s\" % (f, output_line))\n",
    "        del buffer[:]"
   ]
  },
  {
   "cell_type": "markdown",
   "metadata": {},
   "source": [
    "This works, but it is unfortunate that we lost the ability to use `yield` to send output out of the line processor functions.\n",
    "\n",
    "We will get around this by using [PEP 535 -- Asynchronous Generators](https://www.python.org/dev/peps/pep-0525/), introduced in Python 3.6. Essentially this PEP allows a function to pre-empt itself in two different ways: `yield` and `await`. We can use `await` to get the next input line and `yield` to return output lines:"
   ]
  },
  {
   "cell_type": "code",
   "execution_count": 7,
   "metadata": {
    "collapsed": true,
    "deletable": true,
    "editable": true
   },
   "outputs": [],
   "source": [
    "import asyncio\n",
    "@asyncio.coroutine\n",
    "def read_input_line():\n",
    "    return (yield None)\n",
    "\n",
    "async def find_passwords_async_gen():\n",
    "    while True:\n",
    "        line = await read_input_line()\n",
    "        try:\n",
    "            first, last = line.split(':')\n",
    "        except ValueError:\n",
    "            continue\n",
    "        yield 'Username: %s' % first.split()[-1]\n",
    "        yield 'Password: %s' % last.split()[0]\n",
    "\n",
    "async def find_exclamations_async_gen():\n",
    "    while True:\n",
    "        line = await read_input_line()\n",
    "        if line.endswith('!'):\n",
    "            yield 'Someone yelled %r' % (line,)"
   ]
  },
  {
   "cell_type": "code",
   "execution_count": 15,
   "metadata": {
    "collapsed": false,
    "deletable": true,
    "editable": true
   },
   "outputs": [
    {
     "name": "stdout",
     "output_type": "stream",
     "text": [
      "From find_exclamations_async_gen: Someone yelled 'Hello!'\n",
      "From find_passwords_async_gen: Username: foo\n",
      "From find_passwords_async_gen: Password: bar\n",
      "From find_exclamations_async_gen: Someone yelled 'Hello again!'\n",
      "From find_passwords_async_gen: Username: hello\n",
      "From find_passwords_async_gen: Password: world\n"
     ]
    }
   ],
   "source": [
    "processors = [\n",
    "    find_passwords_async_gen,\n",
    "    find_exclamations_async_gen,\n",
    "]\n",
    "iters = [processor().__aiter__() for processor in processors]\n",
    "gens = [o.__anext__() for o in iters]\n",
    "for i in range(len(processors)):\n",
    "    gens[i].send(None)  # Start the generator\n",
    "for line in input_lines:\n",
    "    for i in range(len(processors)):\n",
    "        to_send = line\n",
    "        while True:\n",
    "            try:\n",
    "                gens[i].send(to_send)\n",
    "            except StopIteration as exn:\n",
    "                print(\"From %s: %s\" % (processors[i].__name__, exn.args[0]))\n",
    "                to_send = None\n",
    "                gens[i] = iters[i].__anext__()\n",
    "            else:\n",
    "                break"
   ]
  },
  {
   "cell_type": "markdown",
   "metadata": {},
   "source": [
    "Although the driver code is ugly, the async generators are nice! Even cooler, we can use asynchronous for-loops:"
   ]
  },
  {
   "cell_type": "code",
   "execution_count": 9,
   "metadata": {
    "collapsed": true
   },
   "outputs": [],
   "source": [
    "async def find_passwords_async_iterable(async_iterable):\n",
    "    async for line in async_iterable:\n",
    "        try:\n",
    "            first, last = line.split(':')\n",
    "        except ValueError:\n",
    "            continue\n",
    "        yield 'Username: %s' % first.split()[-1]\n",
    "        yield 'Password: %s' % last.split()[0]\n",
    "\n",
    "async def find_exclamations_async_iterable(async_iterable):\n",
    "    async for line in async_iterable:\n",
    "        if line.endswith('!'):\n",
    "            yield 'Someone yelled %r' % (line,)"
   ]
  },
  {
   "cell_type": "code",
   "execution_count": 16,
   "metadata": {
    "collapsed": false,
    "deletable": true,
    "editable": true
   },
   "outputs": [
    {
     "name": "stdout",
     "output_type": "stream",
     "text": [
      "From find_exclamations_async_iterable: Someone yelled 'Hello!'\n",
      "From find_passwords_async_iterable: Username: foo\n",
      "From find_passwords_async_iterable: Password: bar\n",
      "From find_exclamations_async_iterable: Someone yelled 'Hello again!'\n",
      "From find_passwords_async_iterable: Username: hello\n",
      "From find_passwords_async_iterable: Password: world\n"
     ]
    }
   ],
   "source": [
    "import asyncio\n",
    "@asyncio.coroutine\n",
    "def read_input_line():\n",
    "    return (yield None)\n",
    "\n",
    "async def read_input_lines():\n",
    "    while True:\n",
    "        line = await read_input_line()\n",
    "        yield line\n",
    "\n",
    "def gather_processors(processor_functions, iterable):\n",
    "    processors = [p(read_input_lines()) for p in processor_functions]\n",
    "\n",
    "    iters = [processor.__aiter__() for processor in processors]\n",
    "    gens = [o.__anext__() for o in iters]\n",
    "    for i in range(len(processors)):\n",
    "        gens[i].send(None)  # Start the generator\n",
    "    for line in iterable:\n",
    "        for i in range(len(processors)):\n",
    "            to_send = line\n",
    "            while True:\n",
    "                try:\n",
    "                    gens[i].send(to_send)\n",
    "                except StopIteration as exn:\n",
    "                    yield i, exn.args[0]\n",
    "                    to_send = None\n",
    "                    gens[i] = iters[i].__anext__()\n",
    "                else:\n",
    "                    break\n",
    "\n",
    "processor_functions = [\n",
    "    find_passwords_async_iterable,\n",
    "    find_exclamations_async_iterable,\n",
    "]\n",
    "\n",
    "for idx, line in gather_processors(processor_functions, input_lines):\n",
    "    print(\"From %s: %s\" % (processor_functions[idx].__name__, line))"
   ]
  },
  {
   "cell_type": "markdown",
   "metadata": {},
   "source": [
    "We can write some simple wrappers that convert between iterables and async iterables:"
   ]
  },
  {
   "cell_type": "code",
   "execution_count": 11,
   "metadata": {
    "collapsed": false
   },
   "outputs": [
    {
     "name": "stdout",
     "output_type": "stream",
     "text": [
      "['Hello!', 'First entry is foo:bar', 'Hello again!', 'And hello:world is the final entry']\n",
      "['Username: foo', 'Password: bar', 'Username: hello', 'Password: world']\n"
     ]
    }
   ],
   "source": [
    "async def wrap_aiter(iterable):\n",
    "    for x in iterable:\n",
    "        yield x\n",
    "\n",
    "def unwrap_aiter(async_iterable):\n",
    "    g = async_iterable.__aiter__()\n",
    "    o = g.__anext__()\n",
    "    while True:\n",
    "        try:\n",
    "            o.send(None)\n",
    "        except StopIteration as exn:\n",
    "            yield exn.args[0]\n",
    "            o = g.__anext__()\n",
    "        except StopAsyncIteration:\n",
    "            break\n",
    "\n",
    "print(list(unwrap_aiter(wrap_aiter(input_lines))))\n",
    "print(list(unwrap_aiter(find_passwords_async_iterable(wrap_aiter(input_lines)))))"
   ]
  },
  {
   "cell_type": "markdown",
   "metadata": {},
   "source": [
    "Now, if we want our line processors to work both as async generators and regular generators, we can make a decorator that transparently wraps the input and unwraps the output:"
   ]
  },
  {
   "cell_type": "code",
   "execution_count": 12,
   "metadata": {
    "collapsed": true
   },
   "outputs": [],
   "source": [
    "def syncgenerator(async_generator_function):\n",
    "    def wrapper(iterable):\n",
    "        if hasattr(iterable, '__aiter__'):\n",
    "            # iterable is an async iterator => return asynchronous generator\n",
    "            return async_generator_function(iterable)\n",
    "        else:\n",
    "            # iterable is a regular non-async iterable => return non-async generator\n",
    "            return unwrap_aiter(async_generator_function(wrap_aiter(iterable)))\n",
    "\n",
    "    return wrapper"
   ]
  },
  {
   "cell_type": "code",
   "execution_count": 17,
   "metadata": {
    "collapsed": true
   },
   "outputs": [],
   "source": [
    "@syncgenerator\n",
    "async def find_passwords_syncgen(async_iterable):\n",
    "    async for line in async_iterable:\n",
    "        try:\n",
    "            first, last = line.split(':')\n",
    "        except ValueError:\n",
    "            continue\n",
    "        yield 'Username: %s' % first.split()[-1]\n",
    "        yield 'Password: %s' % last.split()[0]\n",
    "\n",
    "@syncgenerator\n",
    "async def find_exclamations_syncgen(async_iterable):\n",
    "    async for line in async_iterable:\n",
    "        if line.endswith('!'):\n",
    "            yield 'Someone yelled %r' % (line,)"
   ]
  },
  {
   "cell_type": "markdown",
   "metadata": {},
   "source": [
    "This way, we can use the functions as old-fashioned iterators:"
   ]
  },
  {
   "cell_type": "code",
   "execution_count": 18,
   "metadata": {
    "collapsed": false
   },
   "outputs": [
    {
     "name": "stdout",
     "output_type": "stream",
     "text": [
      "Someone yelled 'Hello!'\n",
      "Someone yelled 'Hello again!'\n"
     ]
    }
   ],
   "source": [
    "for line in find_exclamations_syncgen(input_lines):\n",
    "    print(line)"
   ]
  },
  {
   "cell_type": "markdown",
   "metadata": {},
   "source": [
    "And the functions still work as asynchronous generators:"
   ]
  },
  {
   "cell_type": "code",
   "execution_count": 14,
   "metadata": {
    "collapsed": false
   },
   "outputs": [
    {
     "name": "stdout",
     "output_type": "stream",
     "text": [
      "From find_exclamations_async_iterable: Someone yelled 'Hello!'\n",
      "From find_passwords_async_iterable: Username: foo\n",
      "From find_passwords_async_iterable: Password: bar\n",
      "From find_exclamations_async_iterable: Someone yelled 'Hello again!'\n",
      "From find_passwords_async_iterable: Username: hello\n",
      "From find_passwords_async_iterable: Password: world\n"
     ]
    }
   ],
   "source": [
    "processor_functions_syncgen = [\n",
    "    find_passwords_syncgen,\n",
    "    find_exclamations_syncgen,\n",
    "]\n",
    "for idx, line in gather_processors(processor_functions_syncgen, input_lines):\n",
    "    print(\"From %s: %s\" % (processor_functions[idx].__name__, line))"
   ]
  },
  {
   "cell_type": "markdown",
   "metadata": {},
   "source": [
    "## The full code\n",
    "\n",
    "The implementation below is a bit more general as it supports `yield` before/after the `async for line in iterable:` inside the asynchronous generators. For infini"
   ]
  },
  {
   "cell_type": "code",
   "execution_count": 36,
   "metadata": {
    "collapsed": false
   },
   "outputs": [
    {
     "name": "stdout",
     "output_type": "stream",
     "text": [
      "From exclaim_async_iterable: Hello world!\n",
      "From exclaim_async_iterable: Someone yelled 'Hello!'\n",
      "From count_passwords_async_iterable: Username: foo\n",
      "From count_passwords_async_iterable: Password: bar\n",
      "From exclaim_async_iterable: Someone yelled 'Hello again!'\n",
      "From count_passwords_async_iterable: Username: hello\n",
      "From count_passwords_async_iterable: Password: world\n",
      "From exclaim_async_iterable: Someone yelled 'Goodbye!'\n",
      "From count_passwords_async_iterable: Total number of passwords:\n",
      "From count_passwords_async_iterable: 2\n"
     ]
    }
   ],
   "source": [
    "import asyncio\n",
    "import functools\n",
    "import itertools\n",
    "\n",
    "async def wrap_aiter(iterable):\n",
    "    for x in iterable:\n",
    "        yield x\n",
    "\n",
    "def unwrap_aiter(async_iterable):\n",
    "    g = async_iterable.__aiter__()\n",
    "    o = g.__anext__()\n",
    "    while True:\n",
    "        try:\n",
    "            o.send(None)\n",
    "        except StopIteration as exn:\n",
    "            yield exn.args[0]\n",
    "            o = g.__anext__()\n",
    "        except StopAsyncIteration:\n",
    "            break\n",
    "\n",
    "def syncgenerator(async_generator_function):\n",
    "    @functools.wraps(async_generator_function)\n",
    "    def wrapper(iterable):\n",
    "        if hasattr(iterable, '__aiter__'):\n",
    "            # iterable is an async iterator => return asynchronous generator\n",
    "            return async_generator_function(iterable)\n",
    "        else:\n",
    "            # iterable is a regular non-async iterable => return non-async generator\n",
    "            return unwrap_aiter(async_generator_function(wrap_aiter(iterable)))\n",
    "\n",
    "    return wrapper\n",
    "\n",
    "@syncgenerator\n",
    "async def count_passwords_async_iterable(async_iterable):\n",
    "    count = 0\n",
    "    async for line in async_iterable:\n",
    "        try:\n",
    "            first, last = line.split(':')\n",
    "        except ValueError:\n",
    "            continue\n",
    "        yield 'Username: %s' % first.split()[-1]\n",
    "        yield 'Password: %s' % last.split()[0]\n",
    "        count += 1\n",
    "    yield 'Total number of passwords:'\n",
    "    yield str(count)\n",
    "\n",
    "@syncgenerator\n",
    "async def exclaim_async_iterable(async_iterable):\n",
    "    yield 'Hello world!'\n",
    "    async for line in async_iterable:\n",
    "        if line.endswith('!'):\n",
    "            yield 'Someone yelled %r' % (line,)\n",
    "        if line == 'Goodbye!':\n",
    "            return\n",
    "\n",
    "assert list(exclaim_async_iterable([])) == ['Hello world!']\n",
    "assert list(count_passwords_async_iterable([])) == ['Total number of passwords:', '0']\n",
    "\n",
    "@asyncio.coroutine\n",
    "def read_input_line():\n",
    "    return (yield None)\n",
    "\n",
    "async def read_input_lines(sentinel):\n",
    "    while True:\n",
    "        line = await read_input_line()\n",
    "        if line is sentinel:\n",
    "            return\n",
    "        yield line\n",
    "\n",
    "def gather_processors(processor_functions, iterable):\n",
    "    sentinel = object()\n",
    "    processors = [p(read_input_lines(sentinel))\n",
    "                  for p in processor_functions]\n",
    "\n",
    "    iters = [processor.__aiter__() for processor in processors]\n",
    "    gens = [o.__anext__() for o in iters]\n",
    "    iterable = itertools.chain([None], iterable, [sentinel])\n",
    "    for line in iterable:\n",
    "        for i in range(len(processors)):\n",
    "            if gens[i] is None:\n",
    "                # Generator returned\n",
    "                continue\n",
    "            to_send = line\n",
    "            while True:\n",
    "                try:\n",
    "                    gens[i].send(to_send)\n",
    "                except StopIteration as exn:\n",
    "                    yield i, exn.args[0]\n",
    "                    to_send = None\n",
    "                    gens[i] = iters[i].__anext__()\n",
    "                except StopAsyncIteration:\n",
    "                    gens[i] = None\n",
    "                    break\n",
    "                else:\n",
    "                    break\n",
    "\n",
    "processor_functions = [\n",
    "    count_passwords_async_iterable,\n",
    "    exclaim_async_iterable,\n",
    "]\n",
    "\n",
    "input_lines = ['Hello!',\n",
    "               'First entry is foo:bar',\n",
    "               'Hello again!',\n",
    "               'And hello:world is the final entry',\n",
    "               'Goodbye!',\n",
    "               'Nice talking to you!']\n",
    "\n",
    "for idx, line in gather_processors(processor_functions, input_lines):\n",
    "    print(\"From %s: %s\" % (processor_functions[idx].__name__, line))"
   ]
  }
 ],
 "metadata": {
  "kernelspec": {
   "display_name": "Python 3",
   "language": "python",
   "name": "python3"
  },
  "language_info": {
   "codemirror_mode": {
    "name": "ipython",
    "version": 3
   },
   "file_extension": ".py",
   "mimetype": "text/x-python",
   "name": "python",
   "nbconvert_exporter": "python",
   "pygments_lexer": "ipython3",
   "version": "3.6.1"
  }
 },
 "nbformat": 4,
 "nbformat_minor": 2
}
